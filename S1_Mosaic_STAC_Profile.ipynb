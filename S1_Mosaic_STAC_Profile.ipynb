{
 "cells": [
  {
   "cell_type": "code",
   "execution_count": null,
   "id": "effdd2d2-d217-45f5-b3de-28f986a980c0",
   "metadata": {
    "tags": []
   },
   "outputs": [],
   "source": [
    "import json\n",
    "\n",
    "import boto3\n",
    "import geopandas as gpd\n",
    "import holoviews as hv\n",
    "import hvplot.xarray  # noqa: F401\n",
    "from dea_tools.spatial import points_on_line\n",
    "from holoviews import opts\n",
    "from odc.stac import load\n",
    "from pystac import Item\n",
    "from shapely.geometry import LineString"
   ]
  },
  {
   "cell_type": "code",
   "execution_count": null,
   "id": "5b575a0b-c858-45e6-a7e8-457e0959f02d",
   "metadata": {
    "tags": []
   },
   "outputs": [],
   "source": [
    "# This is south west Tasmania\n",
    "tiles = [\n",
    "    # (\"x038\",\"y008\"),\n",
    "    # (\"x038\",\"y007\"),\n",
    "    # (\"x038\",\"y006\"),  # Doesn't exist\n",
    "    # (\"x039\",\"y008\"),\n",
    "    # (\"x039\",\"y007\"),\n",
    "    # (\"x039\",\"y006\"),\n",
    "    # (\"x040\",\"y008\"),\n",
    "    (\"x040\",\"y007\"),\n",
    "    # (\"x040\",\"y006\"),\n",
    "]\n",
    "\n",
    "items = []\n",
    "s3 = boto3.client('s3')\n",
    "\n",
    "for tile in tiles:\n",
    "    s3_url = (\n",
    "        \"s3://easihub-csiro-dc-data-projects/sar-capability/\"\n",
    "        f\"csiro_s1_mosaic_annual_20m/0.3.0/{tile[0]}/{tile[1]}/2023--P1Y/\"\n",
    "        f\"csiro_s1_mosaic_annual_20m_{tile[0]}{tile[1]}_2023--P1Y.stac-item.json\"\n",
    "    )\n",
    "    # Open the S3 item as a dict\n",
    "    s3_object = s3.get_object(Bucket=s3_url.split('/')[2], Key='/'.join(s3_url.split('/')[3:]))\n",
    "    item = json.loads(s3_object['Body'].read().decode('utf-8'))\n",
    "    items.append(Item.from_dict(item))"
   ]
  },
  {
   "cell_type": "code",
   "execution_count": null,
   "id": "64fd7f69-ca3d-47cf-a69b-4ee22847186e",
   "metadata": {
    "tags": []
   },
   "outputs": [],
   "source": [
    "loaded = load(items, chunks={})\n",
    "loaded"
   ]
  },
  {
   "cell_type": "code",
   "execution_count": null,
   "id": "4ea2fbc2-777b-41d7-8bb1-9b9b123cc4ff",
   "metadata": {
    "tags": []
   },
   "outputs": [],
   "source": [
    "VARIABLE = \"vv_gm\"\n",
    "\n",
    "# RGB image/map\n",
    "map = loaded[VARIABLE].hvplot.image(\"x\", \"y\", cmap=\"viridis\", width=800, height=600, clim=(0, 0.2))\n",
    "\n",
    "# Set up a holoviews points array to enable plotting of the clicked points\n",
    "xthird = loaded.x.values[int(len(loaded.x) / 3)]\n",
    "xsecondthird = loaded.x.values[int(len(loaded.x) / 3 * 2)]\n",
    "ymid = loaded.y.values[int(len(loaded.y) / 2)]\n",
    "\n",
    "first_points = (\n",
    "    [xthird, xsecondthird], [ymid, ymid], [0, 1]\n",
    ")\n",
    "points = hv.Points(first_points, vdims='id')\n",
    "\n",
    "points_stream = hv.streams.PointDraw(\n",
    "    data=points.columns(),\n",
    "    source=points,\n",
    "    drag=True,\n",
    "    num_objects=2,\n",
    "    styles={'fill_color': \"orange\", 'line_color': 'gray'}\n",
    ")\n",
    "\n",
    "# clickxy = hv.streams.Tap(source=map, x=xthird, y=ymid)\n",
    "\n",
    "def interpolate_points(data) -> gpd.GeoDataFrame:\n",
    "    line_string = LineString(zip(data[\"x\"], data[\"y\"]))\n",
    "    line_gdf = gpd.GeoDataFrame(geometry=[line_string,])\n",
    "    \n",
    "    # Interpolate more points\n",
    "    return points_on_line(line_gdf, 0, 20)\n",
    "\n",
    "\n",
    "# Function to build spectral plot of clicked location to show on hover stream plot\n",
    "def click_profile(data):\n",
    "    interp_points = interpolate_points(data)\n",
    "    points_xarray = interp_points.assign(x=interp_points.geometry.x, y=interp_points.geometry.y).to_xarray()\n",
    "\n",
    "    values = loaded.sel(points_xarray[['x', 'y']], method=\"nearest\").squeeze()\n",
    "    line_plot = values[VARIABLE].hvplot.line(color=\"orange\")\n",
    "\n",
    "    return hv.Overlay([line_plot])\n",
    "\n",
    "\n",
    "def update_line(data):\n",
    "    line_points = hv.Points(data, vdims='id')\n",
    "    dynamic_line = hv.Curve(line_points, vdims=\"id\").opts(color='orange')\n",
    "\n",
    "    return hv.Overlay([dynamic_line])\n",
    "\n",
    "# Define the Dynamic Maps\n",
    "plot_profile_dmap = hv.DynamicMap(click_profile, streams=[points_stream])\n",
    "map_profile_dmap = hv.DynamicMap(update_line, streams=[points_stream])\n",
    "\n",
    "# Plot the Map and Dynamic Map side by side\n",
    "hv.Layout(map * points * map_profile_dmap + plot_profile_dmap).cols(1).opts(\n",
    "    opts.Points(active_tools=['point_draw'], size=10, tools=['hover'], color='white', line_color='gray'),\n",
    "    opts.Labels(xoffset=0.01, yoffset=0.01, bgcolor='gray', text_color='black'),\n",
    "    opts.Overlay(show_legend=False, show_title=False, frame_width=600)\n",
    ")"
   ]
  }
 ],
 "metadata": {
  "kernelspec": {
   "display_name": "Python 3 (ipykernel)",
   "language": "python",
   "name": "python3"
  },
  "language_info": {
   "codemirror_mode": {
    "name": "ipython",
    "version": 3
   },
   "file_extension": ".py",
   "mimetype": "text/x-python",
   "name": "python",
   "nbconvert_exporter": "python",
   "pygments_lexer": "ipython3",
   "version": "3.10.12"
  }
 },
 "nbformat": 4,
 "nbformat_minor": 5
}
