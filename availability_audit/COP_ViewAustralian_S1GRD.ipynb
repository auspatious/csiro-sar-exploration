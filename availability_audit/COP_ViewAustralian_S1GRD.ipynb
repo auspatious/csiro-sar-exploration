{
 "cells": [
  {
   "cell_type": "markdown",
   "metadata": {},
   "source": [
    "# Copernicus Dataspace\n",
    "\n",
    "[Documentation](https://documentation.dataspace.copernicus.eu/APIs/OpenSearch.html)\n"
   ]
  },
  {
   "cell_type": "code",
   "execution_count": 1,
   "metadata": {},
   "outputs": [],
   "source": [
    "import requests\n",
    "import geopandas as gpd\n",
    "import shapely\n",
    "\n",
    "from utils import get_australia_coords\n",
    "\n",
    "url = \"https://catalogue.dataspace.copernicus.eu/resto/api/collections/Sentinel1/search.json?\""
   ]
  },
  {
   "cell_type": "code",
   "execution_count": 27,
   "metadata": {},
   "outputs": [],
   "source": [
    "def search(year, next_url=None):\n",
    "    if next_url is not None:\n",
    "        response = requests.get(next_url).json()\n",
    "        if response.get(\"features\") is None:\n",
    "            # retry...\n",
    "            response = requests.get(next_url).json()\n",
    "    else:\n",
    "        start = f\"{year}-01-01T00:00:00Z\"\n",
    "        end = f\"{year}-12-31T23:59:59Z\"\n",
    "        coords = get_australia_coords()\n",
    "        coords_string = \",\".join([f\"{x[0]} {x[1]}\" for x in coords])\n",
    "        polygon = f\"POLYGON(({coords_string}))\"\n",
    "\n",
    "        params = {\n",
    "            \"startDate\": start,\n",
    "            \"completionDate\": end,\n",
    "            \"maxRecords\": 1000,\n",
    "            \"orbitDirection\": \"DESCENDING\",\n",
    "            \"sensorMode\": \"IW\",\n",
    "            \"productType\": \"IW_GRDH_1S\",\n",
    "            \"geometry\": polygon,\n",
    "        }\n",
    "        response = requests.get(url, params=params).json()\n",
    "        if response.get(\"features\") is None:\n",
    "            # retry...\n",
    "            response = requests.get(next_url).json()\n",
    "\n",
    "    try:\n",
    "        for feature in response[\"features\"]:\n",
    "            yield feature\n",
    "    except KeyError:\n",
    "        print(response)\n",
    "        pass\n",
    "\n",
    "    try:\n",
    "        for link in response[\"properties\"][\"links\"]:\n",
    "            if link[\"rel\"] == \"next\":\n",
    "                yield from search(year, link[\"href\"])\n",
    "    except KeyError:\n",
    "        print(response)\n",
    "        pass"
   ]
  },
  {
   "cell_type": "code",
   "execution_count": 28,
   "metadata": {},
   "outputs": [
    {
     "name": "stdout",
     "output_type": "stream",
     "text": [
      "2016 3632\n",
      "2017 8635\n",
      "2018 8833\n",
      "2019 8906\n",
      "2020 8875\n",
      "2021 8805\n",
      "2022 5755\n",
      "2023 5671\n"
     ]
    }
   ],
   "source": [
    "for year in range(2016, 2024):\n",
    "    response = search(year)\n",
    "    features = list(response)\n",
    "    print(year, len(features))"
   ]
  },
  {
   "cell_type": "code",
   "execution_count": 6,
   "metadata": {},
   "outputs": [],
   "source": [
    "import json\n",
    "\n",
    "with open(\"temp.json\", \"w\") as f:\n",
    "    f.write(json.dumps(features, indent=2))"
   ]
  }
 ],
 "metadata": {
  "kernelspec": {
   "display_name": "Python 3",
   "language": "python",
   "name": "python3"
  },
  "language_info": {
   "codemirror_mode": {
    "name": "ipython",
    "version": 3
   },
   "file_extension": ".py",
   "mimetype": "text/x-python",
   "name": "python",
   "nbconvert_exporter": "python",
   "pygments_lexer": "ipython3",
   "version": "3.11.6"
  }
 },
 "nbformat": 4,
 "nbformat_minor": 2
}
