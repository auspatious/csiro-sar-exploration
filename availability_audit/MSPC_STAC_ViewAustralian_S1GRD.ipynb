{
 "cells": [
  {
   "cell_type": "markdown",
   "metadata": {},
   "source": [
    "# Sentinel-1 Data Audit MSPC (using STAC API)\n"
   ]
  },
  {
   "cell_type": "code",
   "execution_count": 2,
   "metadata": {},
   "outputs": [],
   "source": [
    "from pystac_client import Client\n",
    "\n",
    "from utils import get_australia_geometry"
   ]
  },
  {
   "cell_type": "code",
   "execution_count": 3,
   "metadata": {},
   "outputs": [],
   "source": [
    "catalog = \"https://planetarycomputer.microsoft.com/api/stac/v1/\"\n",
    "client = Client.open(catalog)\n",
    "\n",
    "def get_year(year):\n",
    "    search = client.search(\n",
    "        intersects=get_australia_geometry(),\n",
    "        datetime=f\"{year}\",\n",
    "        collections=[\"sentinel-1-grd\"],\n",
    "        query={\n",
    "            \"sar:instrument_mode\": {\"eq\": \"IW\"},\n",
    "            \"sat:orbit_state\": {\"eq\": \"descending\"},\n",
    "        }\n",
    "    )\n",
    "    return search"
   ]
  },
  {
   "cell_type": "code",
   "execution_count": 4,
   "metadata": {},
   "outputs": [
    {
     "name": "stdout",
     "output_type": "stream",
     "text": [
      "2014: 102 items\n",
      "2015: 1644 items\n",
      "2016: 3614 items\n",
      "2017: 8171 items\n",
      "2018: 8235 items\n",
      "2019: 8553 items\n",
      "2020: 8344 items\n",
      "2021: 8381 items\n",
      "2022: 5491 items\n",
      "2023: 5233 items\n"
     ]
    }
   ],
   "source": [
    "for year in range(2014, 2024):\n",
    "    search = get_year(year)\n",
    "    items = list(search.items())\n",
    "    print(f\"{year}: {len(items)} items\")\n"
   ]
  }
 ],
 "metadata": {
  "kernelspec": {
   "display_name": "Python 3",
   "language": "python",
   "name": "python3"
  },
  "language_info": {
   "codemirror_mode": {
    "name": "ipython",
    "version": 3
   },
   "file_extension": ".py",
   "mimetype": "text/x-python",
   "name": "python",
   "nbconvert_exporter": "python",
   "pygments_lexer": "ipython3",
   "version": "3.11.6"
  }
 },
 "nbformat": 4,
 "nbformat_minor": 2
}
