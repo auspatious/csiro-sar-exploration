{
 "cells": [
  {
   "cell_type": "markdown",
   "metadata": {},
   "source": [
    "# Element-84 Earth Search\n",
    "\n",
    "Hit the Element-84 STAC API and get the `matched` parameter to find the\n",
    "count of scenes available per year."
   ]
  },
  {
   "cell_type": "code",
   "execution_count": null,
   "metadata": {},
   "outputs": [],
   "source": [
    "from pystac_client import Client\n",
    "import geopandas as gpd\n",
    "\n",
    "from utils import get_australia_geometry"
   ]
  },
  {
   "cell_type": "code",
   "execution_count": null,
   "metadata": {},
   "outputs": [],
   "source": [
    "catalog = \"https://earth-search.aws.element84.com/v1\"\n",
    "client = Client.open(catalog)\n",
    "\n",
    "\n",
    "def get_year(year):\n",
    "\n",
    "    search = client.search(\n",
    "        intersects=get_australia_geometry(),\n",
    "        datetime=f\"{year}\",\n",
    "        collections=[\"sentinel-1-grd\"],\n",
    "        query={\n",
    "            \"sar:instrument_mode\": {\"eq\": \"IW\"},\n",
    "            \"sat:orbit_state\": {\"eq\": \"descending\"},\n",
    "        },\n",
    "    )\n",
    "    return search"
   ]
  },
  {
   "cell_type": "code",
   "execution_count": null,
   "metadata": {},
   "outputs": [],
   "source": [
    "for year in range(2014, 2025):\n",
    "    print(year, get_year(year).matched())"
   ]
  },
  {
   "cell_type": "code",
   "execution_count": null,
   "metadata": {},
   "outputs": [],
   "source": [
    "geojson_2023 = get_year(2020).item_collection_as_dict()\n",
    "gdf_2023 = gpd.GeoDataFrame.from_features(geojson_2023, crs=\"epsg:4326\")\n",
    "\n",
    "gdf_2023.explore(style_kwds=dict(fillOpacity=0.05))"
   ]
  },
  {
   "cell_type": "code",
   "execution_count": null,
   "metadata": {},
   "outputs": [],
   "source": [
    "import json\n",
    "\n",
    "with open(\"2023.json\", \"w\") as f:\n",
    "    f.write(json.dumps(geojson_2023, indent=4))"
   ]
  }
 ],
 "metadata": {
  "kernelspec": {
   "display_name": "Python 3",
   "language": "python",
   "name": "python3"
  },
  "language_info": {
   "codemirror_mode": {
    "name": "ipython",
    "version": 3
   },
   "file_extension": ".py",
   "mimetype": "text/x-python",
   "name": "python",
   "nbconvert_exporter": "python",
   "pygments_lexer": "ipython3",
   "version": "3.11.6"
  }
 },
 "nbformat": 4,
 "nbformat_minor": 2
}
