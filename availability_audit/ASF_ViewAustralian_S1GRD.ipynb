{
 "cells": [
  {
   "cell_type": "markdown",
   "metadata": {},
   "source": [
    "# Alaska Satellite Facility\n",
    "\n",
    "Use the ASF Search API by extent and year.\n",
    "\n",
    "Documentation is available here: https://docs.asf.alaska.edu/api/keywords/\n"
   ]
  },
  {
   "cell_type": "code",
   "execution_count": 1,
   "metadata": {},
   "outputs": [],
   "source": [
    "import requests\n",
    "import geopandas as gpd\n",
    "import shapely\n",
    "\n",
    "from utils import get_australia_coords\n",
    "\n",
    "url = \"https://api.daac.asf.alaska.edu/services/search/param?\""
   ]
  },
  {
   "cell_type": "code",
   "execution_count": 5,
   "metadata": {},
   "outputs": [],
   "source": [
    "def search(start, end):\n",
    "    coords = get_australia_coords()\n",
    "    coords_string = \",\".join([f\"{x[0]} {x[1]}\" for x in coords])\n",
    "    polygon = f\"polygon(({coords_string}))\"\n",
    "\n",
    "    params = {\n",
    "        \"platform\": \"S1\",\n",
    "        \"processingLevel\": \"GRD_HD\",\n",
    "        \"output\": \"JSON\",\n",
    "        \"start\": start,\n",
    "        \"end\": end,\n",
    "        \"maxResults\": 12000,\n",
    "        \"flightDirection\": \"DESCENDING\",\n",
    "        \"beamMode\": \"IW\",\n",
    "        \"intersectsWith\": polygon\n",
    "    }\n",
    "    response = requests.get(url, params=params)\n",
    "    return response.json()[0]"
   ]
  },
  {
   "cell_type": "code",
   "execution_count": 6,
   "metadata": {},
   "outputs": [
    {
     "name": "stdout",
     "output_type": "stream",
     "text": [
      "2014 54\n",
      "2015 1592\n",
      "2016 3017\n",
      "2017 8911\n",
      "2018 9069\n",
      "2019 9214\n",
      "2020 8958\n",
      "2021 8676\n",
      "2022 5560\n",
      "2023 5612\n",
      "2024 1096\n"
     ]
    }
   ],
   "source": [
    "year_count = {}\n",
    "for year in range(2014, 2025):\n",
    "    start = f\"{year}-01-01T00:00:00Z\"\n",
    "    end = f\"{year}-12-31T23:59:59Z\"\n",
    "    features = search(start, end)\n",
    "    year_count[year] = len(features)\n",
    "    print(year, len(features))"
   ]
  },
  {
   "cell_type": "code",
   "execution_count": null,
   "metadata": {},
   "outputs": [],
   "source": [
    "geojson = []\n",
    "for feature in features:\n",
    "    feature[\"geometry\"] = shapely.from_wkt(feature[\"stringFootprint\"])\n",
    "\n",
    "gdf = gpd.GeoDataFrame(features).set_geometry('geometry', crs='EPSG:4326')\n",
    "gdf.explore(style_kwds=dict(fillOpacity=0.05))\n"
   ]
  }
 ],
 "metadata": {
  "kernelspec": {
   "display_name": "Python 3",
   "language": "python",
   "name": "python3"
  },
  "language_info": {
   "codemirror_mode": {
    "name": "ipython",
    "version": 3
   },
   "file_extension": ".py",
   "mimetype": "text/x-python",
   "name": "python",
   "nbconvert_exporter": "python",
   "pygments_lexer": "ipython3",
   "version": "3.11.6"
  }
 },
 "nbformat": 4,
 "nbformat_minor": 2
}
