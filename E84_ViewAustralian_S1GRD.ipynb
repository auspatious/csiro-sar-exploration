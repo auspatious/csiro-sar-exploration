{
 "cells": [
  {
   "cell_type": "code",
   "execution_count": 12,
   "metadata": {},
   "outputs": [],
   "source": [
    "from pystac_client import Client\n",
    "import geopandas as gpd\n",
    "\n",
    "from utils import bbox"
   ]
  },
  {
   "cell_type": "code",
   "execution_count": 2,
   "metadata": {},
   "outputs": [],
   "source": [
    "catalog = \"https://earth-search.aws.element84.com/v1\"\n",
    "\n",
    "client = Client.open(catalog)"
   ]
  },
  {
   "cell_type": "code",
   "execution_count": 8,
   "metadata": {},
   "outputs": [],
   "source": [
    "def get_year(bbox, year):\n",
    "    search = client.search(\n",
    "        bbox=bbox,\n",
    "        datetime=f\"{year}\",\n",
    "        collections=[\"sentinel-1-grd\"]\n",
    "    )\n",
    "    return search"
   ]
  },
  {
   "cell_type": "code",
   "execution_count": 11,
   "metadata": {},
   "outputs": [
    {
     "name": "stdout",
     "output_type": "stream",
     "text": [
      "2013 0\n",
      "2014 312\n",
      "2015 2280\n",
      "2016 4086\n",
      "2017 9806\n",
      "2018 10085\n",
      "2019 10624\n",
      "2020 10919\n",
      "2021 10801\n",
      "2022 7513\n",
      "2023 7563\n",
      "2024 1515\n"
     ]
    }
   ],
   "source": [
    "for year in range(2014, 2025):\n",
    "    print(year, get_year(bbox, year).matched())"
   ]
  },
  {
   "cell_type": "code",
   "execution_count": null,
   "metadata": {},
   "outputs": [],
   "source": [
    "# geojson_2023 = get_year(bbox, 2023).item_collection_as_dict()\n",
    "gdf_2023 = gpd.GeoDataFrame.from_features(geojson_2023, crs=\"epsg:4326\")\n",
    "\n",
    "gdf_2023.explore(style_kwds=dict(fillOpacity=0.05))"
   ]
  },
  {
   "cell_type": "code",
   "execution_count": null,
   "metadata": {},
   "outputs": [],
   "source": [
    "geojson_2020 = get_year(bbox, 2020).item_collection_as_dict()\n",
    "gdf_2020 = gpd.GeoDataFrame.from_features(geojson_2020, crs=\"epsg:4326\")\n",
    "\n",
    "gdf_2020.explore(style_kwds=dict(fillOpacity=0.05))"
   ]
  }
 ],
 "metadata": {
  "kernelspec": {
   "display_name": "Python 3",
   "language": "python",
   "name": "python3"
  },
  "language_info": {
   "codemirror_mode": {
    "name": "ipython",
    "version": 3
   },
   "file_extension": ".py",
   "mimetype": "text/x-python",
   "name": "python",
   "nbconvert_exporter": "python",
   "pygments_lexer": "ipython3",
   "version": "3.11.6"
  }
 },
 "nbformat": 4,
 "nbformat_minor": 2
}
