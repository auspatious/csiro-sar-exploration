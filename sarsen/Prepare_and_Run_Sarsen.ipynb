{
 "cells": [
  {
   "cell_type": "code",
   "execution_count": null,
   "metadata": {},
   "outputs": [],
   "source": [
    "import geopandas as gpd\n",
    "import odc.geo.xr  # noqa: F401\n",
    "from odc.stac import load\n",
    "from pystac_client import Client\n",
    "from shapely import box\n",
    "\n",
    "import sarsen"
   ]
  },
  {
   "cell_type": "code",
   "execution_count": null,
   "metadata": {},
   "outputs": [],
   "source": [
    "bbox = [146.2357, -43.6796, 147.147, -42.9305]\n",
    "geometry = gpd.GeoSeries([box(*bbox)], crs=\"EPSG:4326\")\n",
    "\n",
    "geometry.explore()"
   ]
  },
  {
   "cell_type": "code",
   "execution_count": null,
   "metadata": {},
   "outputs": [],
   "source": [
    "# Get some elevation\n",
    "\n",
    "client = Client.open(\"https://planetarycomputer.microsoft.com/api/stac/v1\")\n",
    "items = client.search(collections=[\"cop-dem-glo-30\"], bbox=bbox).items()\n",
    "\n",
    "data = load(\n",
    "    items,\n",
    "    bbox=bbox,\n",
    "    resolution=10,\n",
    "    output_crs=\"EPSG:28355\",\n",
    "    chunks=dict(x=2048, y=2048),\n",
    ")\n",
    "\n",
    "data.data.odc.write_cog(\"elevation.tif\", overwrite=True)"
   ]
  },
  {
   "cell_type": "code",
   "execution_count": null,
   "metadata": {},
   "outputs": [],
   "source": [
    "_ = sarsen.terrain_correction(\n",
    "    sarsen.Sentinel1SarProduct(\n",
    "        \"data/S1A_IW_GRDH_1SDV_20230326T191836_20230326T191902_047819_05BECD_540C.SAFE/manifest.safe\",\n",
    "        measurement_group=\"IW/VV\",\n",
    "    ),\n",
    "    interp_method=\"linear\",\n",
    "    dem_urlpath=\"data/tas_dem_10m.tif\",\n",
    "    output_urlpath=\"data/tas_vv_10.tif\",\n",
    "    correct_radiometry=\"gamma_bilinear\",\n",
    "    enable_dask_distributed=True,\n",
    ")\n",
    "\n",
    "_ = sarsen.terrain_correction(\n",
    "    sarsen.Sentinel1SarProduct(\n",
    "        \"data/S1A_IW_GRDH_1SDV_20230326T191836_20230326T191902_047819_05BECD_540C.SAFE/manifest.safe\",\n",
    "        measurement_group=\"IW/VH\",\n",
    "    ),\n",
    "    interp_method=\"linear\",\n",
    "    dem_urlpath=\"data/tas_dem_10m.tif\",\n",
    "    output_urlpath=\"data/tas_vh_10.tif\",\n",
    "    correct_radiometry=\"gamma_bilinear\",\n",
    "    enable_dask_distributed=True,\n",
    ")"
   ]
  },
  {
   "cell_type": "code",
   "execution_count": null,
   "metadata": {},
   "outputs": [],
   "source": [
    "# Using the COP DEM\n",
    "\n",
    "_ = sarsen.terrain_correction(\n",
    "    sarsen.Sentinel1SarProduct(\n",
    "        \"S1A_IW_GRDH_1SDV_20230326T191836_20230326T191902_047819_05BECD_540C.SAFE/manifest.safe\",\n",
    "        measurement_group=\"IW/VV\",\n",
    "    ),\n",
    "    interp_method=\"linear\",\n",
    "    dem_urlpath=\"elevation.tif\",\n",
    "    output_urlpath=\"s1_g0_cop_vv.tif\",\n",
    "    correct_radiometry=\"gamma_bilinear\",\n",
    ")\n",
    "\n",
    "_ = sarsen.terrain_correction(\n",
    "    sarsen.Sentinel1SarProduct(\n",
    "        \"S1A_IW_GRDH_1SDV_20230326T191836_20230326T191902_047819_05BECD_540C.SAFE/manifest.safe\",\n",
    "        measurement_group=\"IW/VH\",\n",
    "    ),\n",
    "    interp_method=\"linear\",\n",
    "    dem_urlpath=\"elevation.tif\",\n",
    "    output_urlpath=\"s1_g0_cop_vh.tif\",\n",
    "    correct_radiometry=\"gamma_bilinear\",\n",
    ")"
   ]
  },
  {
   "cell_type": "code",
   "execution_count": null,
   "metadata": {},
   "outputs": [],
   "source": [
    "# Using the Tas DEM\n",
    "\n",
    "_ = sarsen.terrain_correction(\n",
    "    sarsen.Sentinel1SarProduct(\n",
    "        \"S1A_IW_GRDH_1SDV_20230326T191836_20230326T191902_047819_05BECD_540C.SAFE/manifest.safe\",\n",
    "        measurement_group=\"IW/VV\",\n",
    "    ),\n",
    "    interp_method=\"linear\",\n",
    "    dem_urlpath=\"tas_dem_10m.tif\",\n",
    "    output_urlpath=\"s1_g0_vv.tif\",\n",
    "    correct_radiometry=\"gamma_nearest\",\n",
    ")\n",
    "\n",
    "_ = sarsen.terrain_correction(\n",
    "    sarsen.Sentinel1SarProduct(\n",
    "        \"S1A_IW_GRDH_1SDV_20230326T191836_20230326T191902_047819_05BECD_540C.SAFE/manifest.safe\",\n",
    "        measurement_group=\"IW/VH\",\n",
    "    ),\n",
    "    interp_method=\"linear\",\n",
    "    dem_urlpath=\"tas_dem_10m.tif\",\n",
    "    output_urlpath=\"s1_g0_vh.tif\",\n",
    "    correct_radiometry=\"gamma_nearest\",\n",
    ")"
   ]
  },
  {
   "cell_type": "code",
   "execution_count": null,
   "metadata": {},
   "outputs": [],
   "source": [
    "from planetary_computer import sign_url\n",
    "\n",
    "s1_items = client.search(\n",
    "    collections=[\"sentinel-1-rtc\"], bbox=bbox, datetime=\"2023-03\"\n",
    ").items()\n",
    "\n",
    "s1_data = load(\n",
    "    s1_items,\n",
    "    bbox=bbox,\n",
    "    resolution=10,\n",
    "    output_crs=\"EPSG:28355\",\n",
    "    chunks=dict(x=2048, y=2048),\n",
    "    patch_url=sign_url,\n",
    ")\n",
    "\n",
    "s1_data.isel(time=-1).vv.odc.write_cog(\"s1_mspc_vv.tif\")"
   ]
  },
  {
   "cell_type": "code",
   "execution_count": null,
   "metadata": {},
   "outputs": [],
   "source": [
    "s1_data.isel(time=-1).vh.odc.write_cog(\"s1_mspc_vh.tif\")"
   ]
  }
 ],
 "metadata": {
  "kernelspec": {
   "display_name": "Python 3",
   "language": "python",
   "name": "python3"
  },
  "language_info": {
   "codemirror_mode": {
    "name": "ipython",
    "version": 3
   },
   "file_extension": ".py",
   "mimetype": "text/x-python",
   "name": "python",
   "nbconvert_exporter": "python",
   "pygments_lexer": "ipython3",
   "version": "3.11.6"
  }
 },
 "nbformat": 4,
 "nbformat_minor": 2
}
