{
 "cells": [
  {
   "cell_type": "markdown",
   "metadata": {},
   "source": [
    "# Sentinel-1 Data Audit MSPC\n",
    "\n",
    "Starting from the Parquet listing of all scenes, filter to a BBOX over Australia and then export counts of available scenes per year.\n",
    "\n",
    "The [Sentinel-1 GRD metadata is here](https://planetarycomputer.microsoft.com/dataset/sentinel-1-grd).\n",
    "\n",
    "There's a parquet file available at `abfs://items/sentinel-1-grd.parquet`"
   ]
  },
  {
   "cell_type": "code",
   "execution_count": 1,
   "metadata": {},
   "outputs": [],
   "source": [
    "import dask.dataframe as dd\n",
    "import dask_geopandas\n",
    "import geopandas as gpd\n",
    "from planetary_computer import sign_inplace\n",
    "from pystac_client import Client\n",
    "from shapely.geometry import box\n",
    "\n",
    "from utils import bbox"
   ]
  },
  {
   "cell_type": "code",
   "execution_count": null,
   "metadata": {},
   "outputs": [],
   "source": [
    "catalog = Client.open(\n",
    "    \"https://planetarycomputer.microsoft.com/api/stac/v1/\",\n",
    "    modifier=sign_inplace,\n",
    ")\n",
    "\n",
    "asset = catalog.get_collection(\"sentinel-1-grd\").assets[\"geoparquet-items\"]\n",
    "\n",
    "s1grd = dd.read_parquet(\n",
    "    asset.href, storage_options=asset.extra_fields[\"table:storage_options\"]\n",
    ")\n",
    "s1grd.head()"
   ]
  },
  {
   "cell_type": "code",
   "execution_count": null,
   "metadata": {},
   "outputs": [],
   "source": [
    "# Create a geopandas dataframe with the bounding box\n",
    "gdf = gpd.GeoDataFrame(geometry=[box(*bbox)], crs=\"EPSG:4326\")\n",
    "gdf.explore()"
   ]
  },
  {
   "cell_type": "code",
   "execution_count": null,
   "metadata": {},
   "outputs": [],
   "source": [
    "# Filter with bounding box values\n",
    "# This is \"intersects\" logic, so max of the scene box\n",
    "# can be within the bounding box and vice versa\n",
    "filtered = s1grd.loc[\n",
    "    (s1grd.bbox.str[2] > bbox[0]) &\n",
    "    (s1grd.bbox.str[3] > bbox[1]) &\n",
    "    (s1grd.bbox.str[0] < bbox[2]) &\n",
    "    (s1grd.bbox.str[1] < bbox[3])\n",
    "]\n",
    "filtered"
   ]
  },
  {
   "cell_type": "code",
   "execution_count": 11,
   "metadata": {},
   "outputs": [
    {
     "data": {
      "text/plain": [
       "datetime\n",
       "2014      259\n",
       "2015     2328\n",
       "2016     4142\n",
       "2017     9342\n",
       "2018     9524\n",
       "2019    10299\n",
       "2020    10347\n",
       "2021    10415\n",
       "2022     7389\n",
       "2023     4201\n",
       "2024      139\n",
       "dtype: int64"
      ]
     },
     "execution_count": 11,
     "metadata": {},
     "output_type": "execute_result"
    }
   ],
   "source": [
    "count_per_year = filtered.groupby(filtered.datetime.dt.year).size().compute()\n",
    "count_per_year"
   ]
  }
 ],
 "metadata": {
  "kernelspec": {
   "display_name": "Python 3",
   "language": "python",
   "name": "python3"
  },
  "language_info": {
   "codemirror_mode": {
    "name": "ipython",
    "version": 3
   },
   "file_extension": ".py",
   "mimetype": "text/x-python",
   "name": "python",
   "nbconvert_exporter": "python",
   "pygments_lexer": "ipython3",
   "version": "3.11.6"
  }
 },
 "nbformat": 4,
 "nbformat_minor": 2
}
