{
 "cells": [
  {
   "cell_type": "code",
   "execution_count": null,
   "id": "effdd2d2-d217-45f5-b3de-28f986a980c0",
   "metadata": {
    "tags": []
   },
   "outputs": [],
   "source": [
    "import json\n",
    "\n",
    "import boto3\n",
    "from odc.stac import load\n",
    "from pystac import Item"
   ]
  },
  {
   "cell_type": "code",
   "execution_count": null,
   "id": "5b575a0b-c858-45e6-a7e8-457e0959f02d",
   "metadata": {
    "tags": []
   },
   "outputs": [],
   "source": [
    "# This is south west Tasmania\n",
    "tiles = [\n",
    "    (\"x038\", \"y008\"),\n",
    "    (\"x038\", \"y007\"),\n",
    "    # (\"x038\",\"y006\"),\n",
    "    (\"x039\", \"y008\"),\n",
    "    (\"x039\", \"y007\"),\n",
    "    (\"x039\", \"y006\"),\n",
    "    (\"x040\", \"y008\"),\n",
    "    (\"x040\", \"y007\"),\n",
    "    (\"x040\", \"y006\"),\n",
    "]\n",
    "\n",
    "items = []\n",
    "s3 = boto3.client(\"s3\")\n",
    "\n",
    "for tile in tiles:\n",
    "    s3_url = (\n",
    "        \"s3://easihub-csiro-dc-data-projects/sar-capability/\"\n",
    "        f\"csiro_s1_mosaic_annual_20m/0.3.0/{tile[0]}/{tile[1]}/2023--P1Y/\"\n",
    "        f\"csiro_s1_mosaic_annual_20m_{tile[0]}{tile[1]}_2023--P1Y.stac-item.json\"\n",
    "    )\n",
    "    # Open the S3 item as a dict\n",
    "    s3_object = s3.get_object(\n",
    "        Bucket=s3_url.split(\"/\")[2], Key=\"/\".join(s3_url.split(\"/\")[3:])\n",
    "    )\n",
    "    item = json.loads(s3_object[\"Body\"].read().decode(\"utf-8\"))\n",
    "    items.append(Item.from_dict(item))"
   ]
  },
  {
   "cell_type": "code",
   "execution_count": null,
   "id": "64fd7f69-ca3d-47cf-a69b-4ee22847186e",
   "metadata": {
    "tags": []
   },
   "outputs": [],
   "source": [
    "data = load(items, chunks={})\n",
    "data"
   ]
  },
  {
   "cell_type": "code",
   "execution_count": null,
   "id": "4ea2fbc2-777b-41d7-8bb1-9b9b123cc4ff",
   "metadata": {
    "tags": []
   },
   "outputs": [],
   "source": [
    "data[\"vv_gm\"].odc.explore(robust=True)"
   ]
  },
  {
   "cell_type": "code",
   "execution_count": null,
   "id": "cc5d9c50-776e-4783-a140-4a2c160f1f86",
   "metadata": {
    "tags": []
   },
   "outputs": [],
   "source": [
    "data[\"count\"].odc.explore(nodata=0)"
   ]
  },
  {
   "cell_type": "code",
   "execution_count": null,
   "id": "817ff6ee-c9a2-41b8-bb37-37921d6933bd",
   "metadata": {
    "tags": []
   },
   "outputs": [],
   "source": [
    "# data.vv_mean.odc.write_cog(\"./s1_full_run_20m_vv.tif\", overwrite=True)\n",
    "# data.vh_mean.odc.write_cog(\"./s1_full_run_20m_vh.tif\", overwrite=True)"
   ]
  }
 ],
 "metadata": {
  "kernelspec": {
   "display_name": "Python 3 (ipykernel)",
   "language": "python",
   "name": "python3"
  },
  "language_info": {
   "codemirror_mode": {
    "name": "ipython",
    "version": 3
   },
   "file_extension": ".py",
   "mimetype": "text/x-python",
   "name": "python",
   "nbconvert_exporter": "python",
   "pygments_lexer": "ipython3",
   "version": "3.11.9"
  }
 },
 "nbformat": 4,
 "nbformat_minor": 5
}
