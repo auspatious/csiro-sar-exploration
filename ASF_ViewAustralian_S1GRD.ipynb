{
 "cells": [
  {
   "cell_type": "markdown",
   "metadata": {},
   "source": [
    "# Alaska Satellite Facility\n",
    "\n",
    "Use the ASF Search API by extent and year.\n"
   ]
  },
  {
   "cell_type": "code",
   "execution_count": null,
   "metadata": {},
   "outputs": [],
   "source": [
    "import requests\n",
    "import geopandas as gpd\n",
    "import shapely"
   ]
  },
  {
   "cell_type": "code",
   "execution_count": 88,
   "metadata": {},
   "outputs": [],
   "source": [
    "url = \"https://api.daac.asf.alaska.edu/services/search/param?\"\n",
    "\n",
    "def search(bbox, start, end):\n",
    "    params = {\n",
    "        \"platform\": \"S1\",\n",
    "        \"processingLevel\": \"GRD_HD\",\n",
    "        \"output\": \"JSON\",\n",
    "        \"start\": start,\n",
    "        \"end\": end,\n",
    "        \"maxResults\": 12000,\n",
    "        \"intersectsWith\": f\"polygon(({bbox[0]} {bbox[1]},{bbox[2]} {bbox[1]},{bbox[2]} {bbox[3]},{bbox[0]} {bbox[3]},{bbox[0]} {bbox[1]}))\",\n",
    "    }\n",
    "    response = requests.get(url, params=params)\n",
    "    return response.json()[0]\n"
   ]
  },
  {
   "cell_type": "code",
   "execution_count": 89,
   "metadata": {},
   "outputs": [
    {
     "name": "stdout",
     "output_type": "stream",
     "text": [
      "2014 146\n",
      "2015 1940\n",
      "2016 3227\n",
      "2017 9436\n",
      "2018 9668\n",
      "2019 10127\n",
      "2020 10388\n",
      "2021 10290\n",
      "2022 7117\n",
      "2023 7161\n",
      "2024 1398\n"
     ]
    }
   ],
   "source": [
    "bbox = [112.0, -44.0, 155.0, -10.0]\n",
    "\n",
    "year_count = {}\n",
    "for year in range(2014, 2025):\n",
    "    start = f\"{year}-01-01T00:00:00Z\"\n",
    "    end = f\"{year}-12-31T23:59:59Z\"\n",
    "    features = search(bbox, start, end)\n",
    "    year_count[year] = len(features)\n",
    "    print(year, len(features))"
   ]
  },
  {
   "cell_type": "code",
   "execution_count": null,
   "metadata": {},
   "outputs": [],
   "source": [
    "geojson = []\n",
    "for feature in features:\n",
    "    feature[\"geometry\"] = shapely.from_wkt(feature[\"stringFootprint\"])\n",
    "\n",
    "gdf = gpd.GeoDataFrame(features).set_geometry('geometry', crs='EPSG:4326')\n",
    "gdf.explore(style_kwds=dict(fillOpacity=0.05))\n"
   ]
  }
 ],
 "metadata": {
  "kernelspec": {
   "display_name": "Python 3",
   "language": "python",
   "name": "python3"
  },
  "language_info": {
   "codemirror_mode": {
    "name": "ipython",
    "version": 3
   },
   "file_extension": ".py",
   "mimetype": "text/x-python",
   "name": "python",
   "nbconvert_exporter": "python",
   "pygments_lexer": "ipython3",
   "version": "3.11.6"
  }
 },
 "nbformat": 4,
 "nbformat_minor": 2
}
