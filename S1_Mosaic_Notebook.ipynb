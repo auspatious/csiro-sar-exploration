{
 "cells": [
  {
   "cell_type": "code",
   "execution_count": null,
   "metadata": {
    "tags": []
   },
   "outputs": [],
   "source": [
    "import dask\n",
    "import odc.geo.xr  # noqa: F401\n",
    "from datacube import Datacube\n",
    "from distributed import Client\n",
    "from xarray import merge"
   ]
  },
  {
   "cell_type": "code",
   "execution_count": null,
   "metadata": {},
   "outputs": [],
   "source": [
    "from odc.stac import configure_s3_access\n",
    "\n",
    "configure_s3_access(aws_unsigned=True, cloud_defaults=True)"
   ]
  },
  {
   "cell_type": "code",
   "execution_count": null,
   "metadata": {
    "tags": []
   },
   "outputs": [],
   "source": [
    "# Configure Dask\n",
    "# dask.config.set(\n",
    "#     {\n",
    "#         \"distributed.dashboard.link\": \"https://hub.csiro.easi-eo.solutions/{JUPYTERHUB_SERVICE_PREFIX}proxy/{port}/status\"\n",
    "#     }\n",
    "# )\n",
    "\n",
    "client = Client()\n",
    "client"
   ]
  },
  {
   "cell_type": "code",
   "execution_count": null,
   "metadata": {
    "tags": []
   },
   "outputs": [],
   "source": [
    "# Study site in Tasmania\n",
    "bbox = [146.2357, -43.6796, 147.147,-42.9305]\n",
    "\n",
    "# All of tasmania\n",
    "bbox = [144.0, -43.6, 148.0, -40.0]\n",
    "\n",
    "lon = (bbox[0], bbox[2])\n",
    "lat = (bbox[1], bbox[3])\n",
    "\n",
    "year = \"2017\"\n",
    "product = \"s1_gamma0_geotif_scene\"\n",
    "resolution = 100\n",
    "\n",
    "dc = Datacube()"
   ]
  },
  {
   "cell_type": "code",
   "execution_count": null,
   "metadata": {
    "tags": []
   },
   "outputs": [],
   "source": [
    "data = dc.load(\n",
    "    product=product,\n",
    "    lon=lon,\n",
    "    lat=lat,\n",
    "    time=year,\n",
    "    dask_chunks=dict(x=2024, y=2024),\n",
    "    output_crs=\"epsg:3577\",\n",
    "    resolution=(-resolution, resolution),\n",
    ")\n",
    "data"
   ]
  },
  {
   "cell_type": "code",
   "execution_count": null,
   "metadata": {},
   "outputs": [],
   "source": [
    "data.isel(time=1).vv.plot.imshow(robust=True)"
   ]
  },
  {
   "cell_type": "code",
   "execution_count": null,
   "metadata": {},
   "outputs": [],
   "source": [
    "masked = data.where(data != data.vv.nodata)\n",
    "masked.isel(time=1).vv.plot.imshow(robust=True)"
   ]
  },
  {
   "cell_type": "code",
   "execution_count": null,
   "metadata": {
    "tags": []
   },
   "outputs": [],
   "source": [
    "arrays = []\n",
    "for band in [\"vv\", \"vh\"]:\n",
    "#     arrays.append(data[band].median(\"time\").rename(f\"median_{band}\"))\n",
    "    arrays.append(data[band].mean(\"time\").rename(f\"mean_{band}\"))\n",
    "#     arrays.append(data[band].std(\"time\").rename(f\"std_{band}\"))\n",
    "\n",
    "# # Add count\n",
    "arrays.append(data[\"vv\"].count(\"time\").rename(\"count\").astype(\"int16\"))\n",
    "\n",
    "# Merge the arrays together into a Dataset with the names we want\n",
    "mosaic = merge(arrays, compat=\"override\")\n",
    "\n",
    "mosaic"
   ]
  },
  {
   "cell_type": "code",
   "execution_count": null,
   "metadata": {
    "tags": []
   },
   "outputs": [],
   "source": [
    "mosaic_computed = mosaic.compute()"
   ]
  },
  {
   "cell_type": "code",
   "execution_count": null,
   "metadata": {},
   "outputs": [],
   "source": [
    "mosaic_computed[\"mean_vv\"].odc.explore(robust=True)"
   ]
  },
  {
   "cell_type": "code",
   "execution_count": null,
   "metadata": {
    "tags": []
   },
   "outputs": [],
   "source": [
    "mosaic_computed.mean_vv.odc.write_cog(\"s1_mosaic_2017_vv.tif\")"
   ]
  },
  {
   "cell_type": "code",
   "execution_count": null,
   "metadata": {
    "tags": []
   },
   "outputs": [],
   "source": [
    "mosaic_computed.mean_vh.odc.write_cog(\"s1_mosaic_2017_vh.tif\")"
   ]
  }
 ],
 "metadata": {
  "kernelspec": {
   "display_name": "Python 3",
   "language": "python",
   "name": "python3"
  },
  "language_info": {
   "codemirror_mode": {
    "name": "ipython",
    "version": 3
   },
   "file_extension": ".py",
   "mimetype": "text/x-python",
   "name": "python",
   "nbconvert_exporter": "python",
   "pygments_lexer": "ipython3",
   "version": "3.11.6"
  }
 },
 "nbformat": 4,
 "nbformat_minor": 4
}
