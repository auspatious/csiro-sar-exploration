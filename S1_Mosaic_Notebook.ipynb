{
 "cells": [
  {
   "cell_type": "code",
   "execution_count": null,
   "metadata": {
    "tags": []
   },
   "outputs": [],
   "source": [
    "import numpy as np\n",
    "import odc.geo.xr  # noqa: F401\n",
    "from datacube_compute import geomedian_with_mads\n",
    "from distributed import Client\n",
    "from odc.stac import configure_rio\n",
    "\n",
    "from datacube import Datacube"
   ]
  },
  {
   "cell_type": "code",
   "execution_count": null,
   "metadata": {},
   "outputs": [],
   "source": [
    "configure_rio(cloud_defaults=True, aws=dict(aws_unsigned=True))"
   ]
  },
  {
   "cell_type": "code",
   "execution_count": null,
   "metadata": {
    "tags": []
   },
   "outputs": [],
   "source": [
    "client = Client()\n",
    "client"
   ]
  },
  {
   "cell_type": "code",
   "execution_count": null,
   "metadata": {
    "tags": []
   },
   "outputs": [],
   "source": [
    "# Study site in South East Tasmania\n",
    "bbox = [146.2357, -43.6796, 147.147, -42.9305]\n",
    "resolution = 20\n",
    "\n",
    "# All of Tasmania\n",
    "# bbox = [144.0, -43.6, 148.0, -40.0]\n",
    "# resolution = 100\n",
    "\n",
    "lon = (bbox[0], bbox[2])\n",
    "lat = (bbox[1], bbox[3])\n",
    "\n",
    "year = \"2017\"\n",
    "product = \"sentinel1_grd_gamma0_20m\"\n",
    "\n",
    "dc = Datacube()"
   ]
  },
  {
   "cell_type": "code",
   "execution_count": null,
   "metadata": {
    "tags": []
   },
   "outputs": [],
   "source": [
    "data = dc.load(\n",
    "    product=product,\n",
    "    lon=lon,\n",
    "    lat=lat,\n",
    "    time=year,\n",
    "    dask_chunks=dict(x=2024, y=2024),\n",
    "    output_crs=\"epsg:3577\",\n",
    "    resolution=(-resolution, resolution),\n",
    "    group_by=\"solar_day\",\n",
    ")\n",
    "\n",
    "data = data.where(data.vv != 0)\n",
    "data.attrs[\"nodata\"] = np.nan\n",
    "\n",
    "for dv in data.data_vars.values():\n",
    "    data[dv].attrs.pop(\"nodata\")\n",
    "\n",
    "data"
   ]
  },
  {
   "cell_type": "code",
   "execution_count": null,
   "metadata": {},
   "outputs": [],
   "source": [
    "geomad = geomedian_with_mads(data)\n",
    "\n",
    "for band in [\"vv\", \"vh\"]:\n",
    "    geomad[f\"{band}_mean\"] = data[band].mean(\"time\")\n",
    "    geomad[f\"{band}_std\"] = data[band].std(\"time\")\n",
    "\n",
    "    # Rename bands\n",
    "    geomad = geomad.rename({band: f\"{band}_gm\"})\n",
    "\n",
    "geomad"
   ]
  },
  {
   "cell_type": "code",
   "execution_count": null,
   "metadata": {
    "tags": []
   },
   "outputs": [],
   "source": [
    "computed = geomad.compute()"
   ]
  },
  {
   "cell_type": "code",
   "execution_count": null,
   "metadata": {},
   "outputs": [],
   "source": [
    "# Band vv_gm and vh_gm are the geomedian values\n",
    "computed[\"vv_gm\"].odc.explore(robust=True)"
   ]
  },
  {
   "cell_type": "code",
   "execution_count": null,
   "metadata": {
    "tags": []
   },
   "outputs": [],
   "source": [
    "# We can write out to file using the below\n",
    "BAND = \"gm_vv\"\n",
    "# computed[BAND].odc.write_cog(f\"s1_mosaic_{year}_{BAND}.tif\")"
   ]
  }
 ],
 "metadata": {
  "kernelspec": {
   "display_name": "Python 3",
   "language": "python",
   "name": "python3"
  },
  "language_info": {
   "codemirror_mode": {
    "name": "ipython",
    "version": 3
   },
   "file_extension": ".py",
   "mimetype": "text/x-python",
   "name": "python",
   "nbconvert_exporter": "python",
   "pygments_lexer": "ipython3",
   "version": "3.11.9"
  }
 },
 "nbformat": 4,
 "nbformat_minor": 4
}
