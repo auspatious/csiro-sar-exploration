{
 "cells": [
  {
   "cell_type": "code",
   "execution_count": null,
   "metadata": {
    "tags": []
   },
   "outputs": [],
   "source": [
    "import odc.geo.xr  # noqa: F401\n",
    "from datacube import Datacube\n",
    "from distributed import Client\n",
    "from dask import config\n",
    "\n",
    "import numpy as np\n",
    "from datacube_compute import geomedian_with_mads\n",
    "from odc.stac import configure_rio"
   ]
  },
  {
   "cell_type": "code",
   "execution_count": null,
   "metadata": {},
   "outputs": [],
   "source": [
    "configure_rio(cloud_defaults=True, aws=dict(aws_unsigned=True))"
   ]
  },
  {
   "cell_type": "code",
   "execution_count": null,
   "metadata": {
    "tags": []
   },
   "outputs": [],
   "source": [
    "# # Configure Dask\n",
    "# config.set(\n",
    "#     {\n",
    "#         \"distributed.dashboard.link\": \"https://hub.csiro.easi-eo.solutions/{JUPYTERHUB_SERVICE_PREFIX}proxy/{port}/status\"\n",
    "#     }\n",
    "# )\n",
    "\n",
    "client = Client()\n",
    "client"
   ]
  },
  {
   "cell_type": "code",
   "execution_count": null,
   "metadata": {
    "tags": []
   },
   "outputs": [],
   "source": [
    "# Study site in Tasmania\n",
    "bbox = [146.2357, -43.6796, 147.147, -42.9305]\n",
    "resolution = 20\n",
    "\n",
    "# All of Tasmania\n",
    "# bbox = [144.0, -43.6, 148.0, -40.0]\n",
    "# resolution = 100\n",
    "\n",
    "lon = (bbox[0], bbox[2])\n",
    "lat = (bbox[1], bbox[3])\n",
    "\n",
    "year = \"2017\"\n",
    "product = \"s1_gamma0_geotif_scene\"\n",
    "\n",
    "dc = Datacube()"
   ]
  },
  {
   "cell_type": "code",
   "execution_count": null,
   "metadata": {
    "tags": []
   },
   "outputs": [],
   "source": [
    "data = dc.load(\n",
    "    product=product,\n",
    "    lon=lon,\n",
    "    lat=lat,\n",
    "    time=year,\n",
    "    dask_chunks=dict(x=2024, y=2024),\n",
    "    output_crs=\"epsg:3577\",\n",
    "    resolution=(-resolution, resolution),\n",
    "    group_by=\"solar_day\",\n",
    ")\n",
    "\n",
    "data = data.where(data.vv != 0)\n",
    "data.attrs[\"nodata\"] = np.nan\n",
    "\n",
    "for dv in data.data_vars:\n",
    "    data[dv].attrs.pop(\"nodata\")\n",
    "\n",
    "data"
   ]
  },
  {
   "cell_type": "code",
   "execution_count": null,
   "metadata": {},
   "outputs": [],
   "source": [
    "geomad = geomedian_with_mads(data)\n",
    "\n",
    "# for band in [\"vv\", \"vh\"]:\n",
    "#     geomad[\"vv_mean\"] = data[band].mean(\"time\")\n",
    "\n",
    "geomad"
   ]
  },
  {
   "cell_type": "code",
   "execution_count": null,
   "metadata": {
    "tags": []
   },
   "outputs": [],
   "source": [
    "computed = geomad.compute()"
   ]
  },
  {
   "cell_type": "code",
   "execution_count": null,
   "metadata": {},
   "outputs": [],
   "source": [
    "# Band vv and vh are the geomedian values\n",
    "computed[\"vv\"].odc.explore(robust=True)"
   ]
  },
  {
   "cell_type": "code",
   "execution_count": null,
   "metadata": {},
   "outputs": [],
   "source": [
    "computed[\"count\"].plot.imshow()"
   ]
  },
  {
   "cell_type": "code",
   "execution_count": null,
   "metadata": {
    "tags": []
   },
   "outputs": [],
   "source": [
    "# computed.vv.odc.write_cog(\"s1_mosaic_2017_vv.tif\")"
   ]
  }
 ],
 "metadata": {
  "kernelspec": {
   "display_name": "Python 3",
   "language": "python",
   "name": "python3"
  },
  "language_info": {
   "codemirror_mode": {
    "name": "ipython",
    "version": 3
   },
   "file_extension": ".py",
   "mimetype": "text/x-python",
   "name": "python",
   "nbconvert_exporter": "python",
   "pygments_lexer": "ipython3",
   "version": "3.11.9"
  }
 },
 "nbformat": 4,
 "nbformat_minor": 4
}
